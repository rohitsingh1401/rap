{
 "cells": [
  {
   "cell_type": "code",
   "execution_count": 1,
   "metadata": {},
   "outputs": [
    {
     "name": "stdout",
     "output_type": "stream",
     "text": [
      "What do you want to start your rap with?\n",
      " > king\n",
      "Alright, here's your rap made by rohit (you'll note i am somewhat bad at it sometimes, but i am practicing!):\n",
      "king \n",
      "was attack of half a and up blow up, grow cannot \n",
      "i boy? looking dre from yeah\" \"hell a as pointless \n",
      "you're see all as diverse verses many \n",
      "how you give \n",
      "i'll deep mom your dig fuckin' a walk i \n",
      "and though do \n",
      "what ago albums three had i if\n"
     ]
    }
   ],
   "source": [
    "import random, re\n",
    "\n",
    "# freqDict is a dict of dict containing frequencies\n",
    "def addToDict(fileName, freqDict):\n",
    "\tf = open(fileName, 'r')\n",
    "\twords = re.sub(\"\\n\", \" \\n\", f.read()).lower().split(' ')\n",
    "\n",
    "\t# count frequencies curr -> succ\n",
    "\tfor curr, succ in zip(words[1:], words[:-1]):\n",
    "\t\t# check if curr is already in the dict of dicts\n",
    "\t\tif curr not in freqDict:\n",
    "\t\t\tfreqDict[curr] = {succ: 1}\n",
    "\t\telse:\n",
    "\t\t\t# check if the dict associated with curr already has succ\n",
    "\t\t\tif succ not in freqDict[curr]:\n",
    "\t\t\t\tfreqDict[curr][succ] = 1;\n",
    "\t\t\telse:\n",
    "\t\t\t\tfreqDict[curr][succ] += 1;\n",
    "\n",
    "\t# compute percentages\n",
    "\tprobDict = {}\n",
    "\tfor curr, currDict in freqDict.items():\n",
    "\t\tprobDict[curr] = {}\n",
    "\t\tcurrTotal = sum(currDict.values())\n",
    "\t\tfor succ in currDict:\n",
    "\t\t\tprobDict[curr][succ] = currDict[succ] / currTotal\n",
    "\treturn probDict\n",
    "\n",
    "def markov_next(curr, probDict):\n",
    "\tif curr not in probDict:\n",
    "\t\treturn random.choice(list(probDict.keys()))\n",
    "\telse:\n",
    "\t\tsuccProbs = probDict[curr]\n",
    "\t\trandProb = random.random()\n",
    "\t\tcurrProb = 0.0\n",
    "\t\tfor succ in succProbs:\n",
    "\t\t\tcurrProb += succProbs[succ]\n",
    "\t\t\tif randProb <= currProb:\n",
    "\t\t\t\treturn succ\n",
    "\t\treturn random.choice(list(probDict.keys()))\n",
    "\n",
    "def makeRap(curr, probDict, T = 50):\n",
    "\trap = [curr]\n",
    "\tfor t in range(T):\n",
    "\t\trap.append(markov_next(rap[-1], probDict))\n",
    "\treturn \" \".join(rap)\n",
    "\n",
    "if __name__ == '__main__':\n",
    "\trapFreqDict = {}\n",
    "\trapProbDict = addToDict('rap.txt', rapFreqDict)\n",
    "\trapProbDict = addToDict('rap2.txt', rapFreqDict)\n",
    "\n",
    "\tstartWord = input(\"What do you want to start your rap with?\\n > \")\n",
    "\tprint(\"Alright, here's your rap made by rohit (you'll note i am somewhat bad at it sometimes, but i am practicing!):\")\n",
    "\tprint(makeRap(startWord, rapProbDict))"
   ]
  },
  {
   "cell_type": "code",
   "execution_count": null,
   "metadata": {},
   "outputs": [],
   "source": []
  }
 ],
 "metadata": {
  "kernelspec": {
   "display_name": "Python 3",
   "language": "python",
   "name": "python3"
  },
  "language_info": {
   "codemirror_mode": {
    "name": "ipython",
    "version": 3
   },
   "file_extension": ".py",
   "mimetype": "text/x-python",
   "name": "python",
   "nbconvert_exporter": "python",
   "pygments_lexer": "ipython3",
   "version": "3.5.5"
  }
 },
 "nbformat": 4,
 "nbformat_minor": 2
}
